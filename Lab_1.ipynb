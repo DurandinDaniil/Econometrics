{
 "cells": [
  {
   "cell_type": "code",
   "execution_count": 1,
   "metadata": {},
   "outputs": [],
   "source": [
    "import pandas as pd\n",
    "import numpy as np\n",
    "import matplotlib.pyplot as plt\n",
    "from sklearn.linear_model import LinearRegression\n",
    "from sklearn.metrics import mean_squared_error, mean_absolute_error\n",
    "import statsmodels.api as sm\n",
    "from statsmodels.stats.diagnostic import het_breuschpagan"
   ]
  },
  {
   "cell_type": "markdown",
   "metadata": {},
   "source": [
    "Предобработка данных"
   ]
  },
  {
   "cell_type": "code",
   "execution_count": 2,
   "metadata": {},
   "outputs": [],
   "source": [
    "data = pd.read_csv('rko_film_19301941.csv', header = None)"
   ]
  },
  {
   "cell_type": "code",
   "execution_count": 3,
   "metadata": {},
   "outputs": [],
   "source": [
    "header = ['Film', 'Re-release dummy', 'Production costs', 'Domestic Revenue', 'Foreign Revenue', 'Total Revenue', 'Profits', 'Distribution Cost', 'Dist Cost/Revenue', 'Dist Cost/Prod Cost', 'Year', '100*Profit/(Prod+dist cost)']"
   ]
  },
  {
   "cell_type": "code",
   "execution_count": 4,
   "metadata": {},
   "outputs": [],
   "source": [
    "new_data = pd.DataFrame(columns = header)\n",
    "for j in range(len(data)):  \n",
    "    row = data[0][j].split()\n",
    "    new_data.loc[j] = [' '.join(row[:len(row) - len(header) +1])] + row[len(row) - len(header) +1:]"
   ]
  },
  {
   "cell_type": "code",
   "execution_count": 5,
   "metadata": {},
   "outputs": [],
   "source": [
    "new_data[header[1:]] = new_data[header[1:]].astype('float')"
   ]
  },
  {
   "cell_type": "code",
   "execution_count": 6,
   "metadata": {},
   "outputs": [],
   "source": [
    "new_data.to_csv('rko_films.csv')"
   ]
  },
  {
   "cell_type": "markdown",
   "metadata": {},
   "source": [
    "В качестве объясняющего фактороа выберем данные о бюджете на производство фильма в качестве целевого сборы фильма"
   ]
  },
  {
   "cell_type": "code",
   "execution_count": 7,
   "metadata": {},
   "outputs": [
    {
     "data": {
      "text/html": [
       "<div>\n",
       "<style scoped>\n",
       "    .dataframe tbody tr th:only-of-type {\n",
       "        vertical-align: middle;\n",
       "    }\n",
       "\n",
       "    .dataframe tbody tr th {\n",
       "        vertical-align: top;\n",
       "    }\n",
       "\n",
       "    .dataframe thead th {\n",
       "        text-align: right;\n",
       "    }\n",
       "</style>\n",
       "<table border=\"1\" class=\"dataframe\">\n",
       "  <thead>\n",
       "    <tr style=\"text-align: right;\">\n",
       "      <th></th>\n",
       "      <th>Film</th>\n",
       "      <th>Re-release dummy</th>\n",
       "      <th>Production costs</th>\n",
       "      <th>Domestic Revenue</th>\n",
       "      <th>Foreign Revenue</th>\n",
       "      <th>Total Revenue</th>\n",
       "      <th>Profits</th>\n",
       "      <th>Distribution Cost</th>\n",
       "      <th>Dist Cost/Revenue</th>\n",
       "      <th>Dist Cost/Prod Cost</th>\n",
       "      <th>Year</th>\n",
       "      <th>100*Profit/(Prod+dist cost)</th>\n",
       "    </tr>\n",
       "  </thead>\n",
       "  <tbody>\n",
       "    <tr>\n",
       "      <th>0</th>\n",
       "      <td>STREET GIRL</td>\n",
       "      <td>0.0</td>\n",
       "      <td>211.0</td>\n",
       "      <td>806.0</td>\n",
       "      <td>198.0</td>\n",
       "      <td>1004.0</td>\n",
       "      <td>500.0</td>\n",
       "      <td>293.0</td>\n",
       "      <td>0.292</td>\n",
       "      <td>1.389</td>\n",
       "      <td>1930.0</td>\n",
       "      <td>99.2</td>\n",
       "    </tr>\n",
       "    <tr>\n",
       "      <th>1</th>\n",
       "      <td>VAGABOND LOVER</td>\n",
       "      <td>0.0</td>\n",
       "      <td>204.0</td>\n",
       "      <td>671.0</td>\n",
       "      <td>85.0</td>\n",
       "      <td>756.0</td>\n",
       "      <td>335.0</td>\n",
       "      <td>217.0</td>\n",
       "      <td>0.287</td>\n",
       "      <td>1.064</td>\n",
       "      <td>1930.0</td>\n",
       "      <td>79.6</td>\n",
       "    </tr>\n",
       "    <tr>\n",
       "      <th>2</th>\n",
       "      <td>SAINT IN NEW YO</td>\n",
       "      <td>0.0</td>\n",
       "      <td>128.0</td>\n",
       "      <td>350.0</td>\n",
       "      <td>310.0</td>\n",
       "      <td>460.0</td>\n",
       "      <td>195.0</td>\n",
       "      <td>137.0</td>\n",
       "      <td>0.298</td>\n",
       "      <td>1.070</td>\n",
       "      <td>1938.0</td>\n",
       "      <td>73.6</td>\n",
       "    </tr>\n",
       "    <tr>\n",
       "      <th>3</th>\n",
       "      <td>BACHELOR MOTHER</td>\n",
       "      <td>0.0</td>\n",
       "      <td>509.0</td>\n",
       "      <td>1170.0</td>\n",
       "      <td>805.0</td>\n",
       "      <td>1975.0</td>\n",
       "      <td>827.0</td>\n",
       "      <td>639.0</td>\n",
       "      <td>0.324</td>\n",
       "      <td>1.255</td>\n",
       "      <td>1939.0</td>\n",
       "      <td>72.0</td>\n",
       "    </tr>\n",
       "    <tr>\n",
       "      <th>4</th>\n",
       "      <td>TOP HAT</td>\n",
       "      <td>0.0</td>\n",
       "      <td>609.0</td>\n",
       "      <td>1782.0</td>\n",
       "      <td>1420.0</td>\n",
       "      <td>3202.0</td>\n",
       "      <td>1325.0</td>\n",
       "      <td>1268.0</td>\n",
       "      <td>0.396</td>\n",
       "      <td>2.082</td>\n",
       "      <td>1936.0</td>\n",
       "      <td>70.6</td>\n",
       "    </tr>\n",
       "    <tr>\n",
       "      <th>...</th>\n",
       "      <td>...</td>\n",
       "      <td>...</td>\n",
       "      <td>...</td>\n",
       "      <td>...</td>\n",
       "      <td>...</td>\n",
       "      <td>...</td>\n",
       "      <td>...</td>\n",
       "      <td>...</td>\n",
       "      <td>...</td>\n",
       "      <td>...</td>\n",
       "      <td>...</td>\n",
       "      <td>...</td>\n",
       "    </tr>\n",
       "    <tr>\n",
       "      <th>150</th>\n",
       "      <td>HITTING A NEW H</td>\n",
       "      <td>0.0</td>\n",
       "      <td>727.0</td>\n",
       "      <td>305.0</td>\n",
       "      <td>183.0</td>\n",
       "      <td>488.0</td>\n",
       "      <td>-431.0</td>\n",
       "      <td>192.0</td>\n",
       "      <td>0.393</td>\n",
       "      <td>0.264</td>\n",
       "      <td>1938.0</td>\n",
       "      <td>-46.9</td>\n",
       "    </tr>\n",
       "    <tr>\n",
       "      <th>151</th>\n",
       "      <td>TWO ALONE</td>\n",
       "      <td>0.0</td>\n",
       "      <td>236.0</td>\n",
       "      <td>125.0</td>\n",
       "      <td>39.0</td>\n",
       "      <td>164.0</td>\n",
       "      <td>-158.0</td>\n",
       "      <td>86.0</td>\n",
       "      <td>0.524</td>\n",
       "      <td>0.364</td>\n",
       "      <td>1934.0</td>\n",
       "      <td>-49.1</td>\n",
       "    </tr>\n",
       "    <tr>\n",
       "      <th>152</th>\n",
       "      <td>WOMAN COMANDS</td>\n",
       "      <td>0.0</td>\n",
       "      <td>415.0</td>\n",
       "      <td>186.0</td>\n",
       "      <td>56.0</td>\n",
       "      <td>242.0</td>\n",
       "      <td>-265.0</td>\n",
       "      <td>92.0</td>\n",
       "      <td>0.380</td>\n",
       "      <td>0.222</td>\n",
       "      <td>1932.0</td>\n",
       "      <td>-52.3</td>\n",
       "    </tr>\n",
       "    <tr>\n",
       "      <th>153</th>\n",
       "      <td>ABE LINCOLN IN</td>\n",
       "      <td>0.0</td>\n",
       "      <td>1004.0</td>\n",
       "      <td>535.0</td>\n",
       "      <td>131.0</td>\n",
       "      <td>666.0</td>\n",
       "      <td>-740.0</td>\n",
       "      <td>402.0</td>\n",
       "      <td>0.604</td>\n",
       "      <td>0.400</td>\n",
       "      <td>1940.0</td>\n",
       "      <td>-52.6</td>\n",
       "    </tr>\n",
       "    <tr>\n",
       "      <th>154</th>\n",
       "      <td>ENCHANTED APRIL</td>\n",
       "      <td>0.0</td>\n",
       "      <td>346.0</td>\n",
       "      <td>127.0</td>\n",
       "      <td>38.0</td>\n",
       "      <td>165.0</td>\n",
       "      <td>-260.0</td>\n",
       "      <td>79.0</td>\n",
       "      <td>0.479</td>\n",
       "      <td>0.228</td>\n",
       "      <td>1935.0</td>\n",
       "      <td>-61.2</td>\n",
       "    </tr>\n",
       "  </tbody>\n",
       "</table>\n",
       "<p>155 rows × 12 columns</p>\n",
       "</div>"
      ],
      "text/plain": [
       "                Film  Re-release dummy  Production costs  Domestic Revenue  \\\n",
       "0        STREET GIRL               0.0             211.0             806.0   \n",
       "1     VAGABOND LOVER               0.0             204.0             671.0   \n",
       "2    SAINT IN NEW YO               0.0             128.0             350.0   \n",
       "3    BACHELOR MOTHER               0.0             509.0            1170.0   \n",
       "4            TOP HAT               0.0             609.0            1782.0   \n",
       "..               ...               ...               ...               ...   \n",
       "150  HITTING A NEW H               0.0             727.0             305.0   \n",
       "151        TWO ALONE               0.0             236.0             125.0   \n",
       "152    WOMAN COMANDS               0.0             415.0             186.0   \n",
       "153   ABE LINCOLN IN               0.0            1004.0             535.0   \n",
       "154  ENCHANTED APRIL               0.0             346.0             127.0   \n",
       "\n",
       "     Foreign Revenue  Total Revenue  Profits  Distribution Cost  \\\n",
       "0              198.0         1004.0    500.0              293.0   \n",
       "1               85.0          756.0    335.0              217.0   \n",
       "2              310.0          460.0    195.0              137.0   \n",
       "3              805.0         1975.0    827.0              639.0   \n",
       "4             1420.0         3202.0   1325.0             1268.0   \n",
       "..               ...            ...      ...                ...   \n",
       "150            183.0          488.0   -431.0              192.0   \n",
       "151             39.0          164.0   -158.0               86.0   \n",
       "152             56.0          242.0   -265.0               92.0   \n",
       "153            131.0          666.0   -740.0              402.0   \n",
       "154             38.0          165.0   -260.0               79.0   \n",
       "\n",
       "     Dist Cost/Revenue  Dist Cost/Prod Cost    Year  \\\n",
       "0                0.292                1.389  1930.0   \n",
       "1                0.287                1.064  1930.0   \n",
       "2                0.298                1.070  1938.0   \n",
       "3                0.324                1.255  1939.0   \n",
       "4                0.396                2.082  1936.0   \n",
       "..                 ...                  ...     ...   \n",
       "150              0.393                0.264  1938.0   \n",
       "151              0.524                0.364  1934.0   \n",
       "152              0.380                0.222  1932.0   \n",
       "153              0.604                0.400  1940.0   \n",
       "154              0.479                0.228  1935.0   \n",
       "\n",
       "     100*Profit/(Prod+dist cost)  \n",
       "0                           99.2  \n",
       "1                           79.6  \n",
       "2                           73.6  \n",
       "3                           72.0  \n",
       "4                           70.6  \n",
       "..                           ...  \n",
       "150                        -46.9  \n",
       "151                        -49.1  \n",
       "152                        -52.3  \n",
       "153                        -52.6  \n",
       "154                        -61.2  \n",
       "\n",
       "[155 rows x 12 columns]"
      ]
     },
     "execution_count": 7,
     "metadata": {},
     "output_type": "execute_result"
    }
   ],
   "source": [
    "new_data"
   ]
  },
  {
   "cell_type": "code",
   "execution_count": 8,
   "metadata": {},
   "outputs": [],
   "source": [
    "X = np.array(new_data['Production costs'])\n",
    "Y = np.array(new_data['Total Revenue'])"
   ]
  },
  {
   "cell_type": "markdown",
   "metadata": {},
   "source": [
    "Диаграмма рассеяния"
   ]
  },
  {
   "cell_type": "code",
   "execution_count": 9,
   "metadata": {},
   "outputs": [
    {
     "data": {
      "text/plain": [
       "<matplotlib.collections.PathCollection at 0x1e8af6b8448>"
      ]
     },
     "execution_count": 9,
     "metadata": {},
     "output_type": "execute_result"
    },
    {
     "data": {
      "image/png": "[encoded data removed]",
      "text/plain": [
       "<Figure size 1440x720 with 1 Axes>"
      ]
     },
     "metadata": {
      "needs_background": "light"
     },
     "output_type": "display_data"
    }
   ],
   "source": [
    "fig = plt.figure(figsize=(20,10))\n",
    "ax = fig.add_subplot(111)\n",
    "ax.set_xlabel('Production costs')\n",
    "ax.set_ylabel('Total Revenue')\n",
    "plt.scatter(X,Y)"
   ]
  },
  {
   "cell_type": "markdown",
   "metadata": {},
   "source": [
    "Построим линейную регрессию"
   ]
  },
  {
   "cell_type": "code",
   "execution_count": 10,
   "metadata": {},
   "outputs": [
    {
     "data": {
      "text/plain": [
       "LinearRegression(copy_X=True, fit_intercept=True, n_jobs=None, normalize=False)"
      ]
     },
     "execution_count": 10,
     "metadata": {},
     "output_type": "execute_result"
    }
   ],
   "source": [
    "reg = LinearRegression()\n",
    "reg.fit(X.reshape(-1,1),Y.reshape(-1,1))"
   ]
  },
  {
   "cell_type": "markdown",
   "metadata": {},
   "source": [
    "Получим коэф. регрессии"
   ]
  },
  {
   "cell_type": "code",
   "execution_count": 11,
   "metadata": {},
   "outputs": [
    {
     "name": "stdout",
     "output_type": "stream",
     "text": [
      "coef:  1.3929479698371794\n",
      "intercept:  180.70336195139714\n"
     ]
    }
   ],
   "source": [
    "k , b = reg.coef_[0][0], reg.intercept_[0]\n",
    "print('coef: ', k)\n",
    "print('intercept: ',  b)"
   ]
  },
  {
   "cell_type": "code",
   "execution_count": 12,
   "metadata": {},
   "outputs": [
    {
     "data": {
      "text/plain": [
       "[<matplotlib.lines.Line2D at 0x1e8b1b40ac8>]"
      ]
     },
     "execution_count": 12,
     "metadata": {},
     "output_type": "execute_result"
    },
    {
     "data": {
      "image/png": "[encoded data removed]",
      "text/plain": [
       "<Figure size 1440x720 with 1 Axes>"
      ]
     },
     "metadata": {
      "needs_background": "light"
     },
     "output_type": "display_data"
    }
   ],
   "source": [
    "fig = plt.figure(figsize=(20,10))\n",
    "ax = fig.add_subplot(111)\n",
    "ax.set_xlabel('Production costs')\n",
    "ax.set_ylabel('Total Revenue')\n",
    "plt.scatter(X,Y)\n",
    "plt.plot(X, [k*x + b for x in X], color = 'g')"
   ]
  },
  {
   "cell_type": "markdown",
   "metadata": {},
   "source": [
    "Построим остатки на диаграмме рассеиния"
   ]
  },
  {
   "cell_type": "code",
   "execution_count": 11,
   "metadata": {},
   "outputs": [
    {
     "data": {
      "image/png": "[encoded data removed]",
      "text/plain": [
       "<Figure size 1440x720 with 1 Axes>"
      ]
     },
     "metadata": {
      "needs_background": "light"
     },
     "output_type": "display_data"
    }
   ],
   "source": [
    "fig = plt.figure(figsize=(20,10))\n",
    "ax = fig.add_subplot(111)\n",
    "ax.set_xlabel('Production costs')\n",
    "ax.set_ylabel('Total Revenue')\n",
    "plt.scatter(X,Y)\n",
    "plt.plot(X, [k*x + b for x in X], color = 'g')\n",
    "for i in range(len(X)):\n",
    "    true_dots = (X[i], X[i])\n",
    "    preds = (Y[i], k*X[i] + b)\n",
    "    plt.plot(true_dots, preds, color = 'r')"
   ]
  },
  {
   "cell_type": "code",
   "execution_count": 13,
   "metadata": {},
   "outputs": [
    {
     "name": "stdout",
     "output_type": "stream",
     "text": [
      "                            OLS Regression Results                            \n",
      "==============================================================================\n",
      "Dep. Variable:                      y   R-squared:                       0.521\n",
      "Model:                            OLS   Adj. R-squared:                  0.518\n",
      "Method:                 Least Squares   F-statistic:                     166.6\n",
      "Date:                Mon, 07 Dec 2020   Prob (F-statistic):           3.01e-26\n",
      "Time:                        22:54:16   Log-Likelihood:                -1165.2\n",
      "No. Observations:                 155   AIC:                             2334.\n",
      "Df Residuals:                     153   BIC:                             2341.\n",
      "Df Model:                           1                                         \n",
      "Covariance Type:            nonrobust                                         \n",
      "==============================================================================\n",
      "                 coef    std err          t      P>|t|      [0.025      0.975]\n",
      "------------------------------------------------------------------------------\n",
      "const        180.7034     63.129      2.862      0.005      55.987     305.420\n",
      "x1             1.3929      0.108     12.906      0.000       1.180       1.606\n",
      "==============================================================================\n",
      "Omnibus:                       64.208   Durbin-Watson:                   0.650\n",
      "Prob(Omnibus):                  0.000   Jarque-Bera (JB):              198.461\n",
      "Skew:                           1.644   Prob(JB):                     8.03e-44\n",
      "Kurtosis:                       7.463   Cond. No.                     1.03e+03\n",
      "==============================================================================\n",
      "\n",
      "Warnings:\n",
      "[1] Standard Errors assume that the covariance matrix of the errors is correctly specified.\n",
      "[2] The condition number is large, 1.03e+03. This might indicate that there are\n",
      "strong multicollinearity or other numerical problems.\n"
     ]
    }
   ],
   "source": [
    "X2 = sm.add_constant(X.reshape(-1,1))\n",
    "est = sm.OLS(Y.reshape(-1,1), X2)\n",
    "est2 = est.fit()\n",
    "print(est2.summary())"
   ]
  },
  {
   "cell_type": "markdown",
   "metadata": {},
   "source": [
    "Критерий Стьюдента\n",
    "\n",
    "p_val_const == 0.05 => константное значение статестически значимо <br>\n",
    "\n",
    "p_val_x1 < 0.05 => переменная стат. значима \n",
    "\n",
    "Критерий Фишера <br>\n",
    "F_prob = 3.01e-26 < 0.05 => данное построенное уравнение ПЛР является статичтически значимым"
   ]
  },
  {
   "cell_type": "markdown",
   "metadata": {},
   "source": [
    "Построим точечный прогноз значения y для фиксированного x. Вычислим стандартную ошибку и доверительный интервал полученного прогноза"
   ]
  },
  {
   "cell_type": "code",
   "execution_count": 14,
   "metadata": {},
   "outputs": [
    {
     "data": {
      "text/html": [
       "<div>\n",
       "<style scoped>\n",
       "    .dataframe tbody tr th:only-of-type {\n",
       "        vertical-align: middle;\n",
       "    }\n",
       "\n",
       "    .dataframe tbody tr th {\n",
       "        vertical-align: top;\n",
       "    }\n",
       "\n",
       "    .dataframe thead th {\n",
       "        text-align: right;\n",
       "    }\n",
       "</style>\n",
       "<table border=\"1\" class=\"dataframe\">\n",
       "  <thead>\n",
       "    <tr style=\"text-align: right;\">\n",
       "      <th></th>\n",
       "      <th>mean</th>\n",
       "      <th>mean_se</th>\n",
       "      <th>mean_ci_lower</th>\n",
       "      <th>mean_ci_upper</th>\n",
       "    </tr>\n",
       "  </thead>\n",
       "  <tbody>\n",
       "    <tr>\n",
       "      <th>0</th>\n",
       "      <td>474.615384</td>\n",
       "      <td>46.278988</td>\n",
       "      <td>383.187063</td>\n",
       "      <td>566.043704</td>\n",
       "    </tr>\n",
       "  </tbody>\n",
       "</table>\n",
       "</div>"
      ],
      "text/plain": [
       "         mean    mean_se  mean_ci_lower  mean_ci_upper\n",
       "0  474.615384  46.278988     383.187063     566.043704"
      ]
     },
     "execution_count": 14,
     "metadata": {},
     "output_type": "execute_result"
    }
   ],
   "source": [
    "est2.get_prediction(X2[0]).summary_frame()[['mean', 'mean_se','mean_ci_lower','mean_ci_upper']]"
   ]
  },
  {
   "cell_type": "markdown",
   "metadata": {},
   "source": [
    "Оценим гомоскедастичность остатков"
   ]
  },
  {
   "cell_type": "code",
   "execution_count": 28,
   "metadata": {},
   "outputs": [],
   "source": [
    "tail = Y -  [k*x + b for x in X]"
   ]
  },
  {
   "cell_type": "code",
   "execution_count": 35,
   "metadata": {},
   "outputs": [],
   "source": [
    "_,_,f_val, p_val = het_breuschpagan(tail.reshape((-1,1)),X.reshape((-1,1)))"
   ]
  },
  {
   "cell_type": "code",
   "execution_count": 36,
   "metadata": {},
   "outputs": [
    {
     "name": "stdout",
     "output_type": "stream",
     "text": [
      "f_val:  32.57272414480416 \n",
      "p_val:  5.727437424062893e-08\n"
     ]
    }
   ],
   "source": [
    "print('f_val: ', f_val, '\\np_val: ', p_val)"
   ]
  },
  {
   "cell_type": "markdown",
   "metadata": {},
   "source": [
    "p_val < 0.05 => остатки гомоскедастичны"
   ]
  }
 ],
 "metadata": {
  "kernelspec": {
   "display_name": "Python 3",
   "language": "python",
   "name": "python3"
  },
  "language_info": {
   "codemirror_mode": {
    "name": "ipython",
    "version": 3
   },
   "file_extension": ".py",
   "mimetype": "text/x-python",
   "name": "python",
   "nbconvert_exporter": "python",
   "pygments_lexer": "ipython3",
   "version": "3.7.6"
  }
 },
 "nbformat": 4,
 "nbformat_minor": 4
}
